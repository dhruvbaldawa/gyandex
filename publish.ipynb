{
 "cells": [
  {
   "cell_type": "code",
   "execution_count": null,
   "id": "0",
   "metadata": {},
   "outputs": [],
   "source": [
    "%load_ext autoreload\n",
    "%autoreload 2\n",
    "from dotenv import load_dotenv\n",
    "load_dotenv()\n",
    "\n",
    "import os\n",
    "\n",
    "from gyandex.podgen.engine.publisher import PodcastPublisher, PodcastMetadata\n",
    "from gyandex.podgen.storage.s3 import S3CompatibleStorage\n",
    "from gyandex.podgen.feed.models import PodcastDB\n"
   ]
  },
  {
   "cell_type": "code",
   "execution_count": null,
   "id": "1",
   "metadata": {},
   "outputs": [],
   "source": [
    "storage = S3CompatibleStorage(\n",
    "    bucket=\"gyandex\",\n",
    "    access_key_id=os.getenv('ACCESS_KEY_ID'),\n",
    "    secret_access_key=os.getenv('SECRET_ACCESS_KEY'),\n",
    "    endpoint_url=\"https://675f4b8193843a14b144c70d7a440064.r2.cloudflarestorage.com\",\n",
    "    custom_domain=\"pub-347a2b64a84a441c97338968c27696c5.r2.dev\",\n",
    ")\n",
    "\n",
    "db = PodcastDB(\n",
    "    db_path='assets/podcastdb.sqlite',\n",
    ")\n",
    "\n",
    "publisher = PodcastPublisher(\n",
    "    storage=storage,\n",
    "    db=db,\n",
    "    base_url='https://pub-347a2b64a84a441c97338968c27696c5.r2.dev',\n",
    ")"
   ]
  },
  {
   "cell_type": "code",
   "execution_count": null,
   "id": "2",
   "metadata": {},
   "outputs": [],
   "source": [
    "# Create a new feed\n",
    "feed_url = publisher.create_feed(\n",
    "    name=\"tech-talk\",\n",
    "    title=\"Tech Talk Podcast\",\n",
    "    description=\"A podcast about technology\",\n",
    "    author=\"Dhruv Baldawa\",\n",
    "    email=\"me@example.com\",\n",
    "    language=\"en\",\n",
    "    categories=\"Technology,News\"\n",
    ")\n",
    "\n",
    "# Add an episode\n",
    "urls = publisher.add_episode(\n",
    "    feed_name=\"tech-talk\",\n",
    "    audio_file_path=\"./generated_podcasts/podcast_20241025_021450.mp3\",\n",
    "    metadata=PodcastMetadata(\n",
    "        title=\"Prioritizing and Balancing Energy\",\n",
    "        description=\"Prioritizing and Balancing Energy\",\n",
    "        episode_number=1,\n",
    "        season_number=1\n",
    "    )\n",
    ")"
   ]
  },
  {
   "cell_type": "code",
   "execution_count": null,
   "id": "3",
   "metadata": {},
   "outputs": [],
   "source": [
    "print(urls)"
   ]
  },
  {
   "cell_type": "code",
   "execution_count": null,
   "id": "4",
   "metadata": {},
   "outputs": [],
   "source": []
  }
 ],
 "metadata": {
  "kernelspec": {
   "display_name": "Python 3",
   "language": "python",
   "name": "python3"
  },
  "language_info": {
   "codemirror_mode": {
    "name": "ipython",
    "version": 2
   },
   "file_extension": ".py",
   "mimetype": "text/x-python",
   "name": "python",
   "nbconvert_exporter": "python",
   "pygments_lexer": "ipython2",
   "version": "2.7.6"
  }
 },
 "nbformat": 4,
 "nbformat_minor": 5
}
